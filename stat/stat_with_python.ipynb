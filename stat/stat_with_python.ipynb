{
 "cells": [
  {
   "cell_type": "markdown",
   "metadata": {},
   "source": [
    "![](001.jpg)\n",
    "![](002.jpg)\n",
    "![](003.jpg)\n",
    "![](004.jpg)\n",
    "![](005.jpg)\n",
    "![](006.jpg)\n",
    "![](007.jpg)"
   ]
  },
  {
   "cell_type": "markdown",
   "metadata": {},
   "source": [
    "![](008.jpg)\n",
    "![](009.jpg)\n",
    "![](010.jpg)"
   ]
  },
  {
   "cell_type": "markdown",
   "metadata": {},
   "source": [
    "![](011.jpg)\n",
    "![](012.jpg)"
   ]
  },
  {
   "cell_type": "markdown",
   "metadata": {},
   "source": [
    "![](013.jpg)\n",
    "![](014.jpg)\n",
    "![](015.jpg)\n",
    "![](016.jpg)\n",
    "![](017.jpg)"
   ]
  },
  {
   "cell_type": "markdown",
   "metadata": {},
   "source": [
    "![](018.jpg)\n",
    "![](019.jpg)\n",
    "![](020.jpg)\n",
    "![](021.jpg)\n",
    "![](022.jpg)\n",
    "![](023.jpg)"
   ]
  },
  {
   "cell_type": "markdown",
   "metadata": {},
   "source": [
    "![](024.jpg)\n",
    "![](025.jpg)\n",
    "![](026.jpg)\n",
    "![](027.jpg)\n",
    "![](028.jpg)"
   ]
  }
 ],
 "metadata": {
  "kernelspec": {
   "display_name": "Python 3",
   "language": "python",
   "name": "python3"
  },
  "language_info": {
   "codemirror_mode": {
    "name": "ipython",
    "version": 3
   },
   "file_extension": ".py",
   "mimetype": "text/x-python",
   "name": "python",
   "nbconvert_exporter": "python",
   "pygments_lexer": "ipython3",
   "version": "3.7.3"
  }
 },
 "nbformat": 4,
 "nbformat_minor": 4
}
