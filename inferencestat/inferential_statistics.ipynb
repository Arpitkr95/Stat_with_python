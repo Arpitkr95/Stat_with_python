{
 "cells": [
  {
   "cell_type": "markdown",
   "metadata": {},
   "source": [
    "![](001.jpg)\n",
    "![](002.jpg)\n",
    "![](003.jpg)\n",
    "![](004.jpg)\n",
    "![](005.jpg)\n",
    "![](006.jpg)\n",
    "![](007.jpg)\n",
    "![](008.jpg)\n",
    "![](009.jpg)\n",
    "![](010.jpg)\n",
    "![](011.jpg)\n",
    "![](012.jpg)"
   ]
  },
  {
   "cell_type": "markdown",
   "metadata": {},
   "source": [
    "![](013.jpg)\n",
    "![](014.jpg)\n",
    "![](015.jpg)\n",
    "![](016.jpg)"
   ]
  },
  {
   "cell_type": "markdown",
   "metadata": {},
   "source": [
    "![](017.jpg)\n",
    "![](018.jpg)\n",
    "![](019.jpg)\n",
    "![](020.jpg)"
   ]
  },
  {
   "cell_type": "markdown",
   "metadata": {},
   "source": [
    "![](021.jpg)\n",
    "![](022.jpg)\n",
    "![](023.jpg)\n",
    "![](024.jpg)\n",
    "![](025.jpg)"
   ]
  },
  {
   "cell_type": "markdown",
   "metadata": {},
   "source": [
    "![](026.jpg)\n",
    "![](027.jpg)\n",
    "![](028.jpg)\n",
    "![](029.jpg)\n",
    "![](030.jpg)"
   ]
  },
  {
   "cell_type": "markdown",
   "metadata": {},
   "source": [
    "![](031.jpg)\n",
    "![](032.jpg)\n",
    "![](033.jpg)\n",
    "![](034.jpg)\n",
    "![](035.jpg)\n",
    "![](036.jpg)"
   ]
  },
  {
   "cell_type": "markdown",
   "metadata": {},
   "source": [
    "![](037.jpg)\n",
    "![](038.jpg)\n",
    "![](039.jpg)\n",
    "![](040.jpg)\n",
    "![](041.jpg)"
   ]
  },
  {
   "cell_type": "markdown",
   "metadata": {},
   "source": [
    "![](042.jpg)\n",
    "![](043.jpg)\n",
    "![](044.jpg)\n",
    "![](040.jpg)\n",
    "![](041.jpg)\n",
    "![](042.jpg)\n",
    "![](043.jpg)\n",
    "![](044.jpg)\n",
    "![](045.jpg)\n",
    "![](046.jpg)\n",
    "![](047.jpg)\n",
    "![](048.jpg)\n",
    "![](049.jpg)\n",
    "![](050.jpg)\n",
    "![](051.jpg)\n",
    "![](052.jpg)"
   ]
  },
  {
   "cell_type": "code",
   "execution_count": null,
   "metadata": {},
   "outputs": [],
   "source": []
  }
 ],
 "metadata": {
  "kernelspec": {
   "display_name": "Python 3",
   "language": "python",
   "name": "python3"
  },
  "language_info": {
   "codemirror_mode": {
    "name": "ipython",
    "version": 3
   },
   "file_extension": ".py",
   "mimetype": "text/x-python",
   "name": "python",
   "nbconvert_exporter": "python",
   "pygments_lexer": "ipython3",
   "version": "3.7.3"
  }
 },
 "nbformat": 4,
 "nbformat_minor": 4
}
